{
 "cells": [
  {
   "cell_type": "code",
   "execution_count": null,
   "id": "828c3a2b",
   "metadata": {
    "lines_to_next_cell": 1
   },
   "outputs": [],
   "source": [
    "def add(x, y):\n",
    "    return x + y"
   ]
  },
  {
   "cell_type": "code",
   "execution_count": null,
   "id": "ffaf7b9a",
   "metadata": {
    "lines_to_next_cell": 1
   },
   "outputs": [],
   "source": [
    "def subtract(x, y):\n",
    "    return x - y"
   ]
  },
  {
   "cell_type": "code",
   "execution_count": null,
   "id": "fb32ded1",
   "metadata": {
    "lines_to_next_cell": 1
   },
   "outputs": [],
   "source": [
    "def multiply(x, y):\n",
    "    return x * y"
   ]
  },
  {
   "cell_type": "code",
   "execution_count": null,
   "id": "989cd626",
   "metadata": {
    "lines_to_next_cell": 1
   },
   "outputs": [],
   "source": [
    "def divide(x, y):\n",
    "    if y != 0:\n",
    "        return x / y\n",
    "    else:\n",
    "        return \"Cannot divide by zero\""
   ]
  },
  {
   "cell_type": "code",
   "execution_count": null,
   "id": "04b9b877",
   "metadata": {},
   "outputs": [],
   "source": [
    "print(\"Select operation:\")\n",
    "print(\"1. Add\")\n",
    "print(\"2. Subtract\")\n",
    "print(\"3. Multiply\")\n",
    "print(\"4. Divide\")"
   ]
  },
  {
   "cell_type": "code",
   "execution_count": null,
   "id": "95d49f23",
   "metadata": {},
   "outputs": [],
   "source": []
  },
  {
   "cell_type": "code",
   "execution_count": null,
   "id": "5f837f07",
   "metadata": {},
   "outputs": [],
   "source": [
    "choice = input(\"Enter choice: \")"
   ]
  },
  {
   "cell_type": "code",
   "execution_count": null,
   "id": "61cb6680",
   "metadata": {
    "lines_to_next_cell": 2
   },
   "outputs": [],
   "source": [
    "num1 = float(input(\"Enter the first number: \"))\n",
    "num2 = float(input(\"Enter the second number: \"))"
   ]
  },
  {
   "cell_type": "code",
   "execution_count": null,
   "id": "209157bc",
   "metadata": {},
   "outputs": [],
   "source": [
    "if choice in ['1', '2', '3', '4']:\n",
    "    if choice == '1':\n",
    "        result = add(num1, num2)\n",
    "        operation = '+'\n",
    "    elif choice == '2':\n",
    "        result = subtract(num1, num2)\n",
    "        operation = '-'\n",
    "    elif choice == '3':\n",
    "        result = multiply(num1, num2)\n",
    "        operation = '*'\n",
    "    elif choice == '4':\n",
    "        result = divide(num1, num2)\n",
    "        operation = '/'\n",
    "    \n",
    "    print(f\"{num1} {operation} {num2} = {result}\")"
   ]
  },
  {
   "cell_type": "code",
   "execution_count": null,
   "id": "00d2a004",
   "metadata": {},
   "outputs": [],
   "source": [
    "else:\n",
    "    print(\"Invalid input. Please enter a valid operation choice\")"
   ]
  }
 ],
 "metadata": {
  "jupytext": {
   "cell_metadata_filter": "-all",
   "main_language": "python",
   "notebook_metadata_filter": "-all"
  }
 },
 "nbformat": 4,
 "nbformat_minor": 5
}
